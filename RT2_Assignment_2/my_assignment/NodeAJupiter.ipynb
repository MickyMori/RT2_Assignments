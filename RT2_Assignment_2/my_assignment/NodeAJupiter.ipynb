{
 "cells": [
  {
   "cell_type": "code",
   "execution_count": null,
   "id": "c8eb74cd",
   "metadata": {
    "ExecuteTime": {
     "end_time": "2023-06-01T12:57:00.123970Z",
     "start_time": "2023-06-01T12:56:49.079094Z"
    },
    "slideshow": {
     "slide_type": "-"
    }
   },
   "outputs": [],
   "source": [
    "import jupyros as jr\n",
    "import rospy\n",
    "from nav_msgs.msg import Odometry\n",
    "from my_assignment.msg import PosVelData\n",
    "from my_assignment.srv import GoalCounter\n",
    "from sensor_msgs.msg import LaserScan\n",
    "import actionlib\n",
    "import actionlib.msg\n",
    "import assignment_2_2022.msg\n",
    "import matplotlib.pyplot as plt\n",
    "import tf\n",
    "from tf.transformations import quaternion_matrix\n",
    "import numpy as np\n",
    "from matplotlib.animation import FuncAnimation\n",
    "global goal\n",
    "global client\n",
    "global publisher\n",
    "global msg\n",
    "global n_reached\n",
    "global n_not_reached\n",
    "\n",
    "n_reached = 0\n",
    "n_not_reached = 0\n",
    "#initialize the node\n",
    "rospy.init_node('nodeA')"
   ]
  },
  {
   "cell_type": "markdown",
   "id": "4f5bb549",
   "metadata": {
    "slideshow": {
     "slide_type": "-"
    }
   },
   "source": [
    "Node A Publisher\n",
    "=============="
   ]
  },
  {
   "cell_type": "code",
   "execution_count": null,
   "id": "cc2a269d",
   "metadata": {
    "ExecuteTime": {
     "end_time": "2023-06-01T12:57:00.155320Z",
     "start_time": "2023-06-01T12:57:00.129890Z"
    },
    "slideshow": {
     "slide_type": "-"
    }
   },
   "outputs": [],
   "source": [
    "#publisher that writes the data on the topic /posVelData\n",
    "publisher = rospy.Publisher(\"/posVelData\", PosVelData, queue_size = 10)"
   ]
  },
  {
   "cell_type": "code",
   "execution_count": null,
   "id": "f15e0554",
   "metadata": {
    "ExecuteTime": {
     "end_time": "2023-06-01T12:57:00.221342Z",
     "start_time": "2023-06-01T12:57:00.173027Z"
    },
    "slideshow": {
     "slide_type": "-"
    }
   },
   "outputs": [],
   "source": [
    "def callback(sub_data):\n",
    "    \n",
    "    posVelData = PosVelData()\n",
    "    \n",
    "    posVelData.x = sub_data.pose.pose.position.x\n",
    "    posVelData.y = sub_data.pose.pose.position.y\n",
    "    posVelData.vel_x = sub_data.twist.twist.linear.x\n",
    "    posVelData.vel_y = sub_data.twist.twist.linear.y\n",
    "    \n",
    "    publisher.publish(posVelData)"
   ]
  },
  {
   "cell_type": "code",
   "execution_count": null,
   "id": "aa86ea71",
   "metadata": {
    "ExecuteTime": {
     "end_time": "2023-06-01T12:57:00.579044Z",
     "start_time": "2023-06-01T12:57:00.241638Z"
    },
    "slideshow": {
     "slide_type": "-"
    }
   },
   "outputs": [],
   "source": [
    "#subscribe to the topic /odom\n",
    "jr.subscribe(\"/odom\", Odometry, callback)"
   ]
  },
  {
   "cell_type": "markdown",
   "id": "b63cb99a",
   "metadata": {},
   "source": [
    "Node A Client\n",
    "==========="
   ]
  },
  {
   "cell_type": "code",
   "execution_count": null,
   "id": "1170373b",
   "metadata": {
    "ExecuteTime": {
     "end_time": "2023-06-01T12:57:00.852957Z",
     "start_time": "2023-06-01T12:57:00.605149Z"
    }
   },
   "outputs": [],
   "source": [
    "#crate action client\n",
    "client = actionlib.SimpleActionClient('/reaching_goal', assignment_2_2022.msg.PlanningAction)\n",
    "#wait for server\n",
    "client.wait_for_server()"
   ]
  },
  {
   "cell_type": "markdown",
   "id": "e3844429",
   "metadata": {},
   "source": [
    "Set goal\n",
    "-----------"
   ]
  },
  {
   "cell_type": "code",
   "execution_count": null,
   "id": "9d3c6819",
   "metadata": {
    "ExecuteTime": {
     "end_time": "2023-06-01T12:57:01.259772Z",
     "start_time": "2023-06-01T12:57:00.858604Z"
    }
   },
   "outputs": [],
   "source": [
    "import ipywidgets as widgets\n",
    "\n",
    "goal = assignment_2_2022.msg.PlanningGoal()\n",
    "\n",
    "x = widgets.FloatText(description = \"x:\")\n",
    "y = widgets.FloatText(description = \"y:\")\n",
    "status = widgets.Text(value = \"Simulation started!\", disabled = True)\n",
    "\n",
    "button_start = widgets.Button(description = \"Send goal!\", button_style = \"success\")\n",
    "\n",
    "def on_button_start_clicked(b):\n",
    "    \n",
    "    goal.target_pose.pose.position.x = x.value\n",
    "    goal.target_pose.pose.position.y = y.value\n",
    "    \n",
    "    #update goal list\n",
    "    goal_list.value = goal_list.value + \"Goal x: \" + str(x.value) + \"  Goal y: \" + str(y.value)\n",
    "    \n",
    "    #send the goal returned by set_goal()\n",
    "    client.send_goal(goal)\n",
    "    \n",
    "    x.disabled = True\n",
    "    y.disabled = True\n",
    "    button_start.disabled = True\n",
    "    button_stop.disabled = False\n",
    "    status.value = \"Reaching goal!\"\n",
    "    \n",
    "\n",
    "button_start.on_click(on_button_start_clicked)\n",
    "\n",
    "button_stop = widgets.Button(description = \"Cancel goal!\", disabled = True, button_style = \"danger\")\n",
    "\n",
    "def on_button_stop_clicked(b):\n",
    "    client.cancel_goal()\n",
    "    \n",
    "button_stop.on_click(on_button_stop_clicked)\n",
    "        \n",
    "\n",
    "widgets.HBox([widgets.VBox([x, y]), widgets.VBox([button_start, button_stop]), status])\n"
   ]
  },
  {
   "cell_type": "code",
   "execution_count": null,
   "id": "98aeb198",
   "metadata": {
    "ExecuteTime": {
     "end_time": "2023-06-01T12:57:01.347401Z",
     "start_time": "2023-06-01T12:57:01.273148Z"
    }
   },
   "outputs": [],
   "source": [
    "global reached_list\n",
    "global not_reached_list\n",
    "\n",
    "reached_list = [0]\n",
    "not_reached_list = [0]\n",
    "\n",
    "def update_goals_lists():\n",
    "    global n_reached, n_not_reached\n",
    "    reached_list.append(n_reached)\n",
    "    not_reached_list.append(n_not_reached)\n",
    "\n",
    "def checkGoalFeedback(data):\n",
    "    global n_reached, n_not_reached\n",
    "    if data.feedback.stat == \"Target reached!\":\n",
    "        x.disabled = False\n",
    "        y.disabled = False\n",
    "        button_start.disabled = False\n",
    "        button_stop.disabled = True\n",
    "        status.value = \"Goal reached!\"\n",
    "        goal_list.value = goal_list.value + \"    Goal reached!\\n\"\n",
    "        n_reached += 1\n",
    "        update_goals_lists()\n",
    "    elif data.feedback.stat == \"Target cancelled!\":\n",
    "        x.disabled = False\n",
    "        y.disabled = False\n",
    "        button_start.disabled = False\n",
    "        button_stop.disabled = True\n",
    "        status.value = \"Goal cancelled!\"\n",
    "        goal_list.value = goal_list.value + \"    Goal cancelled!\\n\"\n",
    "        n_not_reached += 1\n",
    "        update_goals_lists()"
   ]
  },
  {
   "cell_type": "code",
   "execution_count": null,
   "id": "8bc05ac2",
   "metadata": {
    "ExecuteTime": {
     "end_time": "2023-06-01T12:57:01.632930Z",
     "start_time": "2023-06-01T12:57:01.370363Z"
    }
   },
   "outputs": [],
   "source": [
    "jr.subscribe(\"/reaching_goal/feedback\", assignment_2_2022.msg.PlanningActionFeedback, checkGoalFeedback)"
   ]
  },
  {
   "cell_type": "markdown",
   "id": "02a3277e",
   "metadata": {},
   "source": [
    "Data display\n",
    "=========="
   ]
  },
  {
   "cell_type": "markdown",
   "id": "cd8da040",
   "metadata": {},
   "source": [
    "Position and velocity of the robot\n",
    "------------------------------------------------"
   ]
  },
  {
   "cell_type": "code",
   "execution_count": null,
   "id": "a5eda600",
   "metadata": {
    "ExecuteTime": {
     "end_time": "2023-06-01T12:57:02.145420Z",
     "start_time": "2023-06-01T12:57:01.660942Z"
    }
   },
   "outputs": [],
   "source": [
    "posx = widgets.FloatText(description = \"Pos x:\", disabled = True)\n",
    "posy = widgets.FloatText(description = \"Pos y:\", disabled = True)\n",
    "velx = widgets.FloatText(description = \"Vel x:\", disabled = True)\n",
    "vely = widgets.FloatText(description = \"Vel y:\", disabled = True)\n",
    "    \n",
    "widgets.HBox([widgets.VBox([posx, posy]), widgets.VBox([velx, vely])])\n",
    "    "
   ]
  },
  {
   "cell_type": "code",
   "execution_count": null,
   "id": "d81a697a",
   "metadata": {
    "ExecuteTime": {
     "end_time": "2023-06-01T12:57:02.222126Z",
     "start_time": "2023-06-01T12:57:02.158084Z"
    }
   },
   "outputs": [],
   "source": [
    "class Visualiser:\n",
    "    def __init__(self):\n",
    "        self.fig, self.ax = plt.subplots()\n",
    "        self.ln, = plt.plot([], [], 'ro')\n",
    "        self.x_data, self.y_data = [] , []\n",
    "    def plot_init(self):\n",
    "        self.ax.set_xlim(-10, 10)\n",
    "        self.ax.set_ylim(-10, 10)\n",
    "        return self.ln\n",
    "    def vis_callback(self, data):\n",
    "        self.y_data.append(data.y)\n",
    "        self.x_data.append(data.x)\n",
    "        posx.value = data.x\n",
    "        posy.value = data.y\n",
    "        velx.value = data.vel_x\n",
    "        vely.value = data.vel_y\n",
    "        \n",
    "    def update_plot(self, frame):\n",
    "        self.ln.set_data(self.x_data, self.y_data)\n",
    "        return self.ln"
   ]
  },
  {
   "cell_type": "code",
   "execution_count": null,
   "id": "e56d337b",
   "metadata": {
    "ExecuteTime": {
     "end_time": "2023-06-01T12:57:02.553782Z",
     "start_time": "2023-06-01T12:57:02.236046Z"
    }
   },
   "outputs": [],
   "source": [
    "%matplotlib widget\n",
    "\n",
    "vis = Visualiser()\n",
    "sub = jr.subscribe('/posVelData', PosVelData, vis.vis_callback)\n",
    "\n",
    "ani = FuncAnimation(vis.fig, vis.update_plot, init_func=vis.plot_init)\n",
    "plt.show(block=True)"
   ]
  },
  {
   "cell_type": "markdown",
   "id": "203bcc8f",
   "metadata": {},
   "source": [
    "Goal list\n",
    "------------"
   ]
  },
  {
   "cell_type": "code",
   "execution_count": null,
   "id": "6c5c5170",
   "metadata": {
    "ExecuteTime": {
     "end_time": "2023-06-01T12:57:02.614988Z",
     "start_time": "2023-06-01T12:57:02.559027Z"
    }
   },
   "outputs": [],
   "source": [
    "goal_list = widgets.Textarea(value = \"Goal list:\\n\", disabled = True)\n",
    "\n",
    "display(goal_list)"
   ]
  },
  {
   "cell_type": "markdown",
   "id": "584f4e37",
   "metadata": {},
   "source": [
    "Closest obstacle\n",
    "-----------------------"
   ]
  },
  {
   "cell_type": "code",
   "execution_count": null,
   "id": "e5b774cb",
   "metadata": {
    "ExecuteTime": {
     "end_time": "2023-06-01T12:57:02.785054Z",
     "start_time": "2023-06-01T12:57:02.625894Z"
    }
   },
   "outputs": [],
   "source": [
    "rmin = widgets.FloatText(description = \"Distance:\", disabled = True)\n",
    "ang = widgets.FloatText(description = \"Angle:\", disabled = True)\n",
    "\n",
    "def laserCallback(scan):\n",
    "    min_range = 100\n",
    "    angle = 100\n",
    "    for at, x in enumerate(scan.ranges):\n",
    "        if x < min_range and x > scan.range_min:\n",
    "            min_range = x\n",
    "            angle = scan.angle_min + scan.angle_increment * at\n",
    "    \n",
    "    rmin.value = min_range\n",
    "    ang.value = angle\n",
    "    \n",
    "widgets.HBox([rmin, ang], description = \"Closest obstacle\")"
   ]
  },
  {
   "cell_type": "code",
   "execution_count": null,
   "id": "3dbd8b2f",
   "metadata": {
    "ExecuteTime": {
     "end_time": "2023-06-01T12:57:02.903283Z",
     "start_time": "2023-06-01T12:57:02.788034Z"
    }
   },
   "outputs": [],
   "source": [
    "jr.subscribe('/scan', LaserScan, laserCallback)"
   ]
  },
  {
   "cell_type": "markdown",
   "id": "63ca71e4",
   "metadata": {},
   "source": [
    "Reached/Not-Reached Targets\n",
    "--------------------------------------------"
   ]
  },
  {
   "cell_type": "code",
   "execution_count": null,
   "id": "0880563f",
   "metadata": {
    "ExecuteTime": {
     "end_time": "2023-06-01T12:57:03.728142Z",
     "start_time": "2023-06-01T12:57:02.916960Z"
    }
   },
   "outputs": [],
   "source": [
    "button_update = widgets.Button(description = \"Update graph!\", button_style = \"success\")\n",
    "\n",
    "plt.figure(2)\n",
    "line1, = plt.plot(reached_list, label=\"Reached\", color = 'green')\n",
    "line2, = plt.plot(not_reached_list, label=\"Not-Reached\", color = 'red')\n",
    "# Create a legend for the first line.\n",
    "first_legend = plt.legend(handles=[line1], loc='lower left')\n",
    "# Add the legend manually to the current Axes.\n",
    "plt.gca().add_artist(first_legend)\n",
    "# Create another legend for the second line.\n",
    "plt.legend(handles=[line2], loc='lower right')\n",
    "plt.show()\n",
    "\n",
    "def on_button_update_clicked(b):\n",
    "    line1, = plt.plot(reached_list, label=\"Reached\", color = 'green')\n",
    "    line2, = plt.plot(not_reached_list, label=\"Not-Reached\", color = 'red')\n",
    "    # Create a legend for the first line.\n",
    "    first_legend = plt.legend(handles=[line1], loc='lower left')\n",
    "    # Add the legend manually to the current Axes.\n",
    "    plt.gca().add_artist(first_legend)\n",
    "    # Create another legend for the second line.\n",
    "    plt.legend(handles=[line2], loc='lower right')\n",
    "    plt.show()\n",
    "    \n",
    "button_update.on_click(on_button_update_clicked)\n",
    "display(button_update)"
   ]
  },
  {
   "cell_type": "code",
   "execution_count": null,
   "id": "3848419a",
   "metadata": {},
   "outputs": [],
   "source": []
  }
 ],
 "metadata": {
  "celltoolbar": "Slideshow",
  "kernelspec": {
   "display_name": "Python 3 (ipykernel)",
   "language": "python",
   "name": "python3"
  },
  "language_info": {
   "codemirror_mode": {
    "name": "ipython",
    "version": 3
   },
   "file_extension": ".py",
   "mimetype": "text/x-python",
   "name": "python",
   "nbconvert_exporter": "python",
   "pygments_lexer": "ipython3",
   "version": "3.8.5"
  },
  "toc": {
   "base_numbering": 1,
   "nav_menu": {},
   "number_sections": true,
   "sideBar": true,
   "skip_h1_title": false,
   "title_cell": "Table of Contents",
   "title_sidebar": "Contents",
   "toc_cell": false,
   "toc_position": {},
   "toc_section_display": true,
   "toc_window_display": false
  },
  "varInspector": {
   "cols": {
    "lenName": 16,
    "lenType": 16,
    "lenVar": 40
   },
   "kernels_config": {
    "python": {
     "delete_cmd_postfix": "",
     "delete_cmd_prefix": "del ",
     "library": "var_list.py",
     "varRefreshCmd": "print(var_dic_list())"
    },
    "r": {
     "delete_cmd_postfix": ") ",
     "delete_cmd_prefix": "rm(",
     "library": "var_list.r",
     "varRefreshCmd": "cat(var_dic_list()) "
    }
   },
   "types_to_exclude": [
    "module",
    "function",
    "builtin_function_or_method",
    "instance",
    "_Feature"
   ],
   "window_display": false
  }
 },
 "nbformat": 4,
 "nbformat_minor": 5
}
